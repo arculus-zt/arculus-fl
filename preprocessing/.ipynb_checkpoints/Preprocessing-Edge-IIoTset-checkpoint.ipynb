{
 "cells": [
  {
   "cell_type": "code",
   "execution_count": 8,
   "metadata": {
    "_cell_guid": "b1076dfc-b9ad-4769-8c92-a6c4dae69d19",
    "_uuid": "8f2839f25d086af736a60e9eeb907d3b93b6e0e5"
   },
   "outputs": [],
   "source": [
    "import pandas as pd\n",
    "import numpy as np"
   ]
  },
  {
   "cell_type": "code",
   "execution_count": 9,
   "metadata": {},
   "outputs": [],
   "source": [
    "from sklearn.utils import shuffle\n",
    "from hashlib import md5\n",
    "from sklearn.preprocessing import LabelEncoder, OneHotEncoder"
   ]
  },
  {
   "cell_type": "code",
   "execution_count": 34,
   "metadata": {},
   "outputs": [],
   "source": [
    "df = pd.read_csv('../attacks/combined_dataset_to_preprocess.csv', low_memory = False)"
   ]
  },
  {
   "cell_type": "code",
   "execution_count": 35,
   "metadata": {},
   "outputs": [
    {
     "name": "stdout",
     "output_type": "stream",
     "text": [
      "Index(['Unnamed: 0', 'frame.time', 'ip.src_host', 'ip.dst_host',\n",
      "       'arp.dst.proto_ipv4', 'arp.opcode', 'arp.hw.size', 'arp.src.proto_ipv4',\n",
      "       'icmp.checksum', 'icmp.seq_le', 'icmp.transmit_timestamp',\n",
      "       'icmp.unused', 'http.file_data', 'http.content_length',\n",
      "       'http.request.uri.query', 'http.request.method', 'http.referer',\n",
      "       'http.request.full_uri', 'http.request.version', 'http.response',\n",
      "       'http.tls_port', 'tcp.ack', 'tcp.ack_raw', 'tcp.checksum',\n",
      "       'tcp.connection.fin', 'tcp.connection.rst', 'tcp.connection.syn',\n",
      "       'tcp.connection.synack', 'tcp.dstport', 'tcp.flags', 'tcp.flags.ack',\n",
      "       'tcp.len', 'tcp.options', 'tcp.payload', 'tcp.seq', 'tcp.srcport',\n",
      "       'udp.port', 'udp.stream', 'udp.time_delta', 'dns.qry.name',\n",
      "       'dns.qry.name.len', 'dns.qry.qu', 'dns.qry.type', 'dns.retransmission',\n",
      "       'dns.retransmit_request', 'dns.retransmit_request_in',\n",
      "       'mqtt.conack.flags', 'mqtt.conflag.cleansess', 'mqtt.conflags',\n",
      "       'mqtt.hdrflags', 'mqtt.len', 'mqtt.msg_decoded_as', 'mqtt.msg',\n",
      "       'mqtt.msgtype', 'mqtt.proto_len', 'mqtt.protoname', 'mqtt.topic',\n",
      "       'mqtt.topic_len', 'mqtt.ver', 'mbtcp.len', 'mbtcp.trans_id',\n",
      "       'mbtcp.unit_id', 'Attack_label', 'Attack_type', 'ip.src', 'ip.dst'],\n",
      "      dtype='object')\n",
      "(65000, 66)\n"
     ]
    },
    {
     "ename": "TypeError",
     "evalue": "'NoneType' object is not subscriptable",
     "output_type": "error",
     "traceback": [
      "\u001b[0;31m---------------------------------------------------------------------------\u001b[0m",
      "\u001b[0;31mTypeError\u001b[0m                                 Traceback (most recent call last)",
      "Cell \u001b[0;32mIn[35], line 8\u001b[0m\n\u001b[1;32m      3\u001b[0m df \u001b[38;5;241m=\u001b[39m df\u001b[38;5;241m.\u001b[39mdrop(columns\u001b[38;5;241m=\u001b[39m[\u001b[38;5;124m'\u001b[39m\u001b[38;5;124mUnnamed: 0\u001b[39m\u001b[38;5;124m'\u001b[39m], inplace\u001b[38;5;241m=\u001b[39m\u001b[38;5;28;01mTrue\u001b[39;00m)\n\u001b[1;32m      5\u001b[0m columns_to_keep \u001b[38;5;241m=\u001b[39m [\n\u001b[1;32m      6\u001b[0m     \u001b[38;5;124m'\u001b[39m\u001b[38;5;124mframe.time\u001b[39m\u001b[38;5;124m'\u001b[39m,\u001b[38;5;124m'\u001b[39m\u001b[38;5;124mip.src_host\u001b[39m\u001b[38;5;124m'\u001b[39m,\u001b[38;5;124m'\u001b[39m\u001b[38;5;124mip.dst_host\u001b[39m\u001b[38;5;124m'\u001b[39m,\u001b[38;5;124m'\u001b[39m\u001b[38;5;124marp.dst.proto_ipv4\u001b[39m\u001b[38;5;124m'\u001b[39m,\u001b[38;5;124m'\u001b[39m\u001b[38;5;124marp.opcode\u001b[39m\u001b[38;5;124m'\u001b[39m,\u001b[38;5;124m'\u001b[39m\u001b[38;5;124marp.hw.size\u001b[39m\u001b[38;5;124m'\u001b[39m,\u001b[38;5;124m'\u001b[39m\u001b[38;5;124marp.src.proto_ipv4\u001b[39m\u001b[38;5;124m'\u001b[39m,\u001b[38;5;124m'\u001b[39m\u001b[38;5;124micmp.checksum\u001b[39m\u001b[38;5;124m'\u001b[39m,\u001b[38;5;124m'\u001b[39m\u001b[38;5;124micmp.seq_le\u001b[39m\u001b[38;5;124m'\u001b[39m,\u001b[38;5;124m'\u001b[39m\u001b[38;5;124micmp.transmit_timestamp\u001b[39m\u001b[38;5;124m'\u001b[39m,\u001b[38;5;124m'\u001b[39m\u001b[38;5;124micmp.unused\u001b[39m\u001b[38;5;124m'\u001b[39m,\u001b[38;5;124m'\u001b[39m\u001b[38;5;124mhttp.file_data\u001b[39m\u001b[38;5;124m'\u001b[39m,\u001b[38;5;124m'\u001b[39m\u001b[38;5;124mhttp.content_length\u001b[39m\u001b[38;5;124m'\u001b[39m,\u001b[38;5;124m'\u001b[39m\u001b[38;5;124mhttp.request.uri.query\u001b[39m\u001b[38;5;124m'\u001b[39m,\u001b[38;5;124m'\u001b[39m\u001b[38;5;124mhttp.request.method\u001b[39m\u001b[38;5;124m'\u001b[39m,\u001b[38;5;124m'\u001b[39m\u001b[38;5;124mhttp.referer\u001b[39m\u001b[38;5;124m'\u001b[39m,\u001b[38;5;124m'\u001b[39m\u001b[38;5;124mhttp.request.full_uri\u001b[39m\u001b[38;5;124m'\u001b[39m,\u001b[38;5;124m'\u001b[39m\u001b[38;5;124mhttp.request.version\u001b[39m\u001b[38;5;124m'\u001b[39m,\u001b[38;5;124m'\u001b[39m\u001b[38;5;124mhttp.response\u001b[39m\u001b[38;5;124m'\u001b[39m,\u001b[38;5;124m'\u001b[39m\u001b[38;5;124mhttp.tls_port\u001b[39m\u001b[38;5;124m'\u001b[39m,\u001b[38;5;124m'\u001b[39m\u001b[38;5;124mtcp.ack\u001b[39m\u001b[38;5;124m'\u001b[39m,\u001b[38;5;124m'\u001b[39m\u001b[38;5;124mtcp.ack_raw\u001b[39m\u001b[38;5;124m'\u001b[39m,\u001b[38;5;124m'\u001b[39m\u001b[38;5;124mtcp.checksum\u001b[39m\u001b[38;5;124m'\u001b[39m,\u001b[38;5;124m'\u001b[39m\u001b[38;5;124mtcp.connection.fin\u001b[39m\u001b[38;5;124m'\u001b[39m,\u001b[38;5;124m'\u001b[39m\u001b[38;5;124mtcp.connection.rst\u001b[39m\u001b[38;5;124m'\u001b[39m,\u001b[38;5;124m'\u001b[39m\u001b[38;5;124mtcp.connection.syn\u001b[39m\u001b[38;5;124m'\u001b[39m,\u001b[38;5;124m'\u001b[39m\u001b[38;5;124mtcp.connection.synack\u001b[39m\u001b[38;5;124m'\u001b[39m,\u001b[38;5;124m'\u001b[39m\u001b[38;5;124mtcp.dstport\u001b[39m\u001b[38;5;124m'\u001b[39m,\u001b[38;5;124m'\u001b[39m\u001b[38;5;124mtcp.flags\u001b[39m\u001b[38;5;124m'\u001b[39m,\u001b[38;5;124m'\u001b[39m\u001b[38;5;124mtcp.flags.ack\u001b[39m\u001b[38;5;124m'\u001b[39m,\u001b[38;5;124m'\u001b[39m\u001b[38;5;124mtcp.len\u001b[39m\u001b[38;5;124m'\u001b[39m,\u001b[38;5;124m'\u001b[39m\u001b[38;5;124mtcp.options\u001b[39m\u001b[38;5;124m'\u001b[39m,\u001b[38;5;124m'\u001b[39m\u001b[38;5;124mtcp.payload\u001b[39m\u001b[38;5;124m'\u001b[39m,\u001b[38;5;124m'\u001b[39m\u001b[38;5;124mtcp.seq\u001b[39m\u001b[38;5;124m'\u001b[39m,\u001b[38;5;124m'\u001b[39m\u001b[38;5;124mtcp.srcport\u001b[39m\u001b[38;5;124m'\u001b[39m,\u001b[38;5;124m'\u001b[39m\u001b[38;5;124mudp.port\u001b[39m\u001b[38;5;124m'\u001b[39m,\u001b[38;5;124m'\u001b[39m\u001b[38;5;124mudp.stream\u001b[39m\u001b[38;5;124m'\u001b[39m,\u001b[38;5;124m'\u001b[39m\u001b[38;5;124mudp.time_delta\u001b[39m\u001b[38;5;124m'\u001b[39m,\u001b[38;5;124m'\u001b[39m\u001b[38;5;124mdns.qry.name\u001b[39m\u001b[38;5;124m'\u001b[39m,\u001b[38;5;124m'\u001b[39m\u001b[38;5;124mdns.qry.name.len\u001b[39m\u001b[38;5;124m'\u001b[39m,\u001b[38;5;124m'\u001b[39m\u001b[38;5;124mdns.qry.qu\u001b[39m\u001b[38;5;124m'\u001b[39m,\u001b[38;5;124m'\u001b[39m\u001b[38;5;124mdns.qry.type\u001b[39m\u001b[38;5;124m'\u001b[39m,\u001b[38;5;124m'\u001b[39m\u001b[38;5;124mdns.retransmission\u001b[39m\u001b[38;5;124m'\u001b[39m,\u001b[38;5;124m'\u001b[39m\u001b[38;5;124mdns.retransmit_request\u001b[39m\u001b[38;5;124m'\u001b[39m,\u001b[38;5;124m'\u001b[39m\u001b[38;5;124mdns.retransmit_request_in\u001b[39m\u001b[38;5;124m'\u001b[39m,\u001b[38;5;124m'\u001b[39m\u001b[38;5;124mmbtcp.len\u001b[39m\u001b[38;5;124m'\u001b[39m, \u001b[38;5;124m'\u001b[39m\u001b[38;5;124mmbtcp.trans_id\u001b[39m\u001b[38;5;124m'\u001b[39m, \u001b[38;5;124m'\u001b[39m\u001b[38;5;124mmbtcp.unit_id\u001b[39m\u001b[38;5;124m'\u001b[39m,\u001b[38;5;124m'\u001b[39m\u001b[38;5;124mAttack_label\u001b[39m\u001b[38;5;124m'\u001b[39m,\u001b[38;5;124m'\u001b[39m\u001b[38;5;124mAttack_type\u001b[39m\u001b[38;5;124m'\u001b[39m\n\u001b[1;32m      7\u001b[0m ]\n\u001b[0;32m----> 8\u001b[0m df \u001b[38;5;241m=\u001b[39m \u001b[43mdf\u001b[49m\u001b[43m[\u001b[49m\u001b[43mcolumns_to_keep\u001b[49m\u001b[43m]\u001b[49m\n",
      "\u001b[0;31mTypeError\u001b[0m: 'NoneType' object is not subscriptable"
     ]
    }
   ],
   "source": [
    "print(df.columns)\n",
    "df = df.drop(columns=['Unnamed: 0'], inplace=True)\n",
    "\n",
    "columns_to_keep = [\n",
    "    'frame.time','ip.src_host','ip.dst_host','arp.dst.proto_ipv4','arp.opcode','arp.hw.size','arp.src.proto_ipv4','icmp.checksum','icmp.seq_le','icmp.transmit_timestamp','icmp.unused','http.file_data','http.content_length','http.request.uri.query','http.request.method','http.referer','http.request.full_uri','http.request.version','http.response','http.tls_port','tcp.ack','tcp.ack_raw','tcp.checksum','tcp.connection.fin','tcp.connection.rst','tcp.connection.syn','tcp.connection.synack','tcp.dstport','tcp.flags','tcp.flags.ack','tcp.len','tcp.options','tcp.payload','tcp.seq','tcp.srcport','udp.port','udp.stream','udp.time_delta','dns.qry.name','dns.qry.name.len','dns.qry.qu','dns.qry.type','dns.retransmission','dns.retransmit_request','dns.retransmit_request_in','mbtcp.len', 'mbtcp.trans_id', 'mbtcp.unit_id','Attack_label','Attack_type'\n",
    "]\n",
    "df = df[columns_to_keep]\n"
   ]
  },
  {
   "cell_type": "code",
   "execution_count": 15,
   "metadata": {},
   "outputs": [
    {
     "data": {
      "text/plain": [
       "(65000, 50)"
      ]
     },
     "execution_count": 15,
     "metadata": {},
     "output_type": "execute_result"
    }
   ],
   "source": [
    "df.shape"
   ]
  },
  {
   "cell_type": "code",
   "execution_count": 16,
   "metadata": {},
   "outputs": [],
   "source": [
    "df = df.rename(columns={'http.request.method': 'http1', 'http.referer': 'http2', 'http.request.version': 'http3', 'dns.qry.name.len': 'dns'})"
   ]
  },
  {
   "cell_type": "code",
   "execution_count": 17,
   "metadata": {},
   "outputs": [
    {
     "data": {
      "text/plain": [
       "(65000, 50)"
      ]
     },
     "execution_count": 17,
     "metadata": {},
     "output_type": "execute_result"
    }
   ],
   "source": [
    "le_http1 = LabelEncoder()\n",
    "le_http2 = LabelEncoder()\n",
    "le_http3 = LabelEncoder()\n",
    "le_dns = LabelEncoder()\n",
    "df.shape"
   ]
  },
  {
   "cell_type": "code",
   "execution_count": 18,
   "metadata": {},
   "outputs": [
    {
     "name": "stdout",
     "output_type": "stream",
     "text": [
      "Index(['frame.time', 'ip.src_host', 'ip.dst_host', 'arp.dst.proto_ipv4',\n",
      "       'arp.opcode', 'arp.hw.size', 'arp.src.proto_ipv4', 'icmp.checksum',\n",
      "       'icmp.seq_le', 'icmp.transmit_timestamp', 'icmp.unused',\n",
      "       'http.file_data', 'http.content_length', 'http.request.uri.query',\n",
      "       'http1', 'http2', 'http.request.full_uri', 'http3', 'http.response',\n",
      "       'http.tls_port', 'tcp.ack', 'tcp.ack_raw', 'tcp.checksum',\n",
      "       'tcp.connection.fin', 'tcp.connection.rst', 'tcp.connection.syn',\n",
      "       'tcp.connection.synack', 'tcp.dstport', 'tcp.flags', 'tcp.flags.ack',\n",
      "       'tcp.len', 'tcp.options', 'tcp.payload', 'tcp.seq', 'tcp.srcport',\n",
      "       'udp.port', 'udp.stream', 'udp.time_delta', 'dns.qry.name', 'dns',\n",
      "       'dns.qry.qu', 'dns.qry.type', 'dns.retransmission',\n",
      "       'dns.retransmit_request', 'dns.retransmit_request_in', 'mbtcp.len',\n",
      "       'mbtcp.trans_id', 'mbtcp.unit_id', 'Attack_label', 'Attack_type',\n",
      "       'http1_encoded', 'http2_encoded', 'http3_encoded', 'dns_encoded'],\n",
      "      dtype='object')\n"
     ]
    }
   ],
   "source": [
    "df['http1_encoded'] = le_http1.fit_transform(df.http1)\n",
    "df['http2_encoded'] = le_http2.fit_transform(df.http2)\n",
    "df['http3_encoded'] = le_http3.fit_transform(df.http3)\n",
    "df['dns_encoded'] = le_dns.fit_transform(df.dns)\n",
    "print(df.columns)"
   ]
  },
  {
   "cell_type": "code",
   "execution_count": 19,
   "metadata": {},
   "outputs": [],
   "source": [
    "http1_ = OneHotEncoder()\n",
    "http2_ = OneHotEncoder()\n",
    "http3_ = OneHotEncoder()\n",
    "dns_ = OneHotEncoder()"
   ]
  },
  {
   "cell_type": "code",
   "execution_count": 20,
   "metadata": {},
   "outputs": [],
   "source": [
    "X1 = http1_.fit_transform(df.http1_encoded.values.reshape(-1,1)).toarray()\n",
    "X2 = http2_.fit_transform(df.http2_encoded.values.reshape(-1,1)).toarray()\n",
    "X3 = http3_.fit_transform(df.http3_encoded.values.reshape(-1,1)).toarray()\n",
    "X4 = dns_.fit_transform(df.dns_encoded.values.reshape(-1,1)).toarray()"
   ]
  },
  {
   "cell_type": "code",
   "execution_count": 21,
   "metadata": {},
   "outputs": [],
   "source": [
    "dfOneHot = pd.DataFrame(X1, columns = [\"http1_\"+str(int(i)) for i in range(X1.shape[1])])\n",
    "df = pd.concat([df, dfOneHot], axis=1)\n",
    "dfOneHot = pd.DataFrame(X2, columns = [\"http2_\"+str(int(i)) for i in range(X2.shape[1])])\n",
    "df = pd.concat([df, dfOneHot], axis=1)\n",
    "dfOneHot = pd.DataFrame(X3, columns = [\"http3_\"+str(int(i)) for i in range(X3.shape[1])])\n",
    "df = pd.concat([df, dfOneHot], axis=1)\n",
    "dfOneHot = pd.DataFrame(X4, columns = [\"dns_\"+str(int(i)) for i in range(X4.shape[1])])\n",
    "df = pd.concat([df, dfOneHot], axis=1)"
   ]
  },
  {
   "cell_type": "code",
   "execution_count": 22,
   "metadata": {},
   "outputs": [
    {
     "data": {
      "text/plain": [
       "(65000, 76)"
      ]
     },
     "execution_count": 22,
     "metadata": {},
     "output_type": "execute_result"
    }
   ],
   "source": [
    "df.drop(columns=['http1','http2','http3', 'dns'], inplace = True )\n",
    "df.shape"
   ]
  },
  {
   "cell_type": "code",
   "execution_count": 23,
   "metadata": {},
   "outputs": [
    {
     "data": {
      "text/plain": [
       "frame.time            0\n",
       "ip.src_host           0\n",
       "ip.dst_host           0\n",
       "arp.dst.proto_ipv4    0\n",
       "arp.opcode            0\n",
       "                     ..\n",
       "dns_7                 0\n",
       "dns_8                 0\n",
       "dns_9                 0\n",
       "dns_10                0\n",
       "dns_11                0\n",
       "Length: 76, dtype: int64"
      ]
     },
     "execution_count": 23,
     "metadata": {},
     "output_type": "execute_result"
    }
   ],
   "source": [
    "df.isnull().sum()"
   ]
  },
  {
   "cell_type": "code",
   "execution_count": 24,
   "metadata": {},
   "outputs": [
    {
     "data": {
      "text/plain": [
       "12"
      ]
     },
     "execution_count": 24,
     "metadata": {},
     "output_type": "execute_result"
    }
   ],
   "source": [
    "df.duplicated().sum()"
   ]
  },
  {
   "cell_type": "code",
   "execution_count": 25,
   "metadata": {},
   "outputs": [
    {
     "data": {
      "text/plain": [
       "(64988, 76)"
      ]
     },
     "execution_count": 25,
     "metadata": {},
     "output_type": "execute_result"
    }
   ],
   "source": [
    "df = df.drop_duplicates()\n",
    "df.shape"
   ]
  },
  {
   "cell_type": "code",
   "execution_count": 26,
   "metadata": {},
   "outputs": [
    {
     "name": "stdout",
     "output_type": "stream",
     "text": [
      "Groups of identical columns: [['icmp.unused', 'http.tls_port'], ['http1_4', 'http2_3']]\n"
     ]
    }
   ],
   "source": [
    "# Function to create a hash for each column\n",
    "def hash_column(series):\n",
    "    return md5(pd.util.hash_pandas_object(series, index=False).values).hexdigest()\n",
    "\n",
    "# Function to find columns with identical hashes\n",
    "def find_identical_columns_by_hash(df):\n",
    "    hash_dict = {}\n",
    "    for col in df.columns:\n",
    "        col_hash = hash_column(df[col])\n",
    "        if col_hash in hash_dict:\n",
    "            hash_dict[col_hash].append(col)\n",
    "        else:\n",
    "            hash_dict[col_hash] = [col]\n",
    "\n",
    "    return [cols for cols in hash_dict.values() if len(cols) > 1]\n",
    "\n",
    "# Applying the function to the DataFrame\n",
    "identical_column_groups = find_identical_columns_by_hash(df)\n",
    "print(\"Groups of identical columns:\", identical_column_groups)"
   ]
  },
  {
   "cell_type": "code",
   "execution_count": 28,
   "metadata": {},
   "outputs": [
    {
     "data": {
      "text/plain": [
       "(64988, 74)"
      ]
     },
     "execution_count": 28,
     "metadata": {},
     "output_type": "execute_result"
    }
   ],
   "source": [
    "# Groups of identical columns\n",
    "identical_column_groups = [\n",
    "    ['icmp.unused', 'http.tls_port'],\n",
    "    ['http1_4', 'http2_3']\n",
    "]\n",
    "\n",
    "# Iterate through the list of groups and drop all but the first column\n",
    "for group in identical_column_groups:\n",
    "    # Keep the first column of the group and drop the rest\n",
    "    columns_to_drop = group[1:]  # all columns except the first one\n",
    "    df = df.drop(columns_to_drop, axis=1)\n",
    "df.shape"
   ]
  },
  {
   "cell_type": "code",
   "execution_count": 29,
   "metadata": {},
   "outputs": [
    {
     "name": "stdout",
     "output_type": "stream",
     "text": [
      "Attack_type\n",
      "Normal                   36496\n",
      "DDoS_TCP                  6160\n",
      "DDoS_HTTP                 6137\n",
      "SQL_injection             6118\n",
      "DDoS_UDP                  2689\n",
      "DDoS_ICMP                 2555\n",
      "Password                  1172\n",
      "Vulnerability_scanner     1069\n",
      "Uploading                  860\n",
      "Backdoor                   569\n",
      "Port_Scanning              533\n",
      "XSS                        347\n",
      "Ransomware                 246\n",
      "Fingerprinting              23\n",
      "MITM                        14\n",
      "Name: count, dtype: int64\n"
     ]
    }
   ],
   "source": [
    "print(df['Attack_type'].value_counts())"
   ]
  },
  {
   "cell_type": "code",
   "execution_count": 31,
   "metadata": {},
   "outputs": [
    {
     "data": {
      "text/html": [
       "<div>\n",
       "<style scoped>\n",
       "    .dataframe tbody tr th:only-of-type {\n",
       "        vertical-align: middle;\n",
       "    }\n",
       "\n",
       "    .dataframe tbody tr th {\n",
       "        vertical-align: top;\n",
       "    }\n",
       "\n",
       "    .dataframe thead th {\n",
       "        text-align: right;\n",
       "    }\n",
       "</style>\n",
       "<table border=\"1\" class=\"dataframe\">\n",
       "  <thead>\n",
       "    <tr style=\"text-align: right;\">\n",
       "      <th></th>\n",
       "      <th>frame.time</th>\n",
       "      <th>ip.src_host</th>\n",
       "      <th>ip.dst_host</th>\n",
       "      <th>arp.dst.proto_ipv4</th>\n",
       "      <th>arp.src.proto_ipv4</th>\n",
       "      <th>http.file_data</th>\n",
       "      <th>http.request.uri.query</th>\n",
       "      <th>http.request.full_uri</th>\n",
       "      <th>http.response</th>\n",
       "      <th>tcp.flags.ack</th>\n",
       "      <th>tcp.options</th>\n",
       "      <th>tcp.payload</th>\n",
       "      <th>tcp.srcport</th>\n",
       "      <th>udp.port</th>\n",
       "      <th>dns.qry.name</th>\n",
       "      <th>dns.qry.qu</th>\n",
       "      <th>dns.retransmission</th>\n",
       "      <th>Attack_type</th>\n",
       "    </tr>\n",
       "  </thead>\n",
       "  <tbody>\n",
       "    <tr>\n",
       "      <th>count</th>\n",
       "      <td>64988</td>\n",
       "      <td>64988</td>\n",
       "      <td>64988</td>\n",
       "      <td>64988</td>\n",
       "      <td>64988</td>\n",
       "      <td>64988</td>\n",
       "      <td>64988</td>\n",
       "      <td>64988</td>\n",
       "      <td>64988</td>\n",
       "      <td>64988</td>\n",
       "      <td>64988</td>\n",
       "      <td>64988</td>\n",
       "      <td>64988</td>\n",
       "      <td>64988</td>\n",
       "      <td>64988</td>\n",
       "      <td>64988</td>\n",
       "      <td>64988</td>\n",
       "      <td>64988</td>\n",
       "    </tr>\n",
       "    <tr>\n",
       "      <th>unique</th>\n",
       "      <td>64585</td>\n",
       "      <td>8054</td>\n",
       "      <td>1200</td>\n",
       "      <td>11</td>\n",
       "      <td>10</td>\n",
       "      <td>76</td>\n",
       "      <td>258</td>\n",
       "      <td>534</td>\n",
       "      <td>4</td>\n",
       "      <td>5</td>\n",
       "      <td>10722</td>\n",
       "      <td>7248</td>\n",
       "      <td>16857</td>\n",
       "      <td>40</td>\n",
       "      <td>306</td>\n",
       "      <td>13</td>\n",
       "      <td>6</td>\n",
       "      <td>15</td>\n",
       "    </tr>\n",
       "    <tr>\n",
       "      <th>top</th>\n",
       "      <td>192.168.0.128</td>\n",
       "      <td>192.168.0.128</td>\n",
       "      <td>192.168.0.128</td>\n",
       "      <td>0</td>\n",
       "      <td>0</td>\n",
       "      <td>0.0</td>\n",
       "      <td>0.0</td>\n",
       "      <td>0.0</td>\n",
       "      <td>0.0</td>\n",
       "      <td>1.0</td>\n",
       "      <td>0</td>\n",
       "      <td>0</td>\n",
       "      <td>1883.0</td>\n",
       "      <td>0.0</td>\n",
       "      <td>0.0</td>\n",
       "      <td>0.0</td>\n",
       "      <td>0.0</td>\n",
       "      <td>Normal</td>\n",
       "    </tr>\n",
       "    <tr>\n",
       "      <th>freq</th>\n",
       "      <td>257</td>\n",
       "      <td>21778</td>\n",
       "      <td>21520</td>\n",
       "      <td>59569</td>\n",
       "      <td>57137</td>\n",
       "      <td>51263</td>\n",
       "      <td>62801</td>\n",
       "      <td>49285</td>\n",
       "      <td>54281</td>\n",
       "      <td>36958</td>\n",
       "      <td>37950</td>\n",
       "      <td>41799</td>\n",
       "      <td>15097</td>\n",
       "      <td>49924</td>\n",
       "      <td>54679</td>\n",
       "      <td>54936</td>\n",
       "      <td>59943</td>\n",
       "      <td>36496</td>\n",
       "    </tr>\n",
       "  </tbody>\n",
       "</table>\n",
       "</div>"
      ],
      "text/plain": [
       "           frame.time    ip.src_host    ip.dst_host arp.dst.proto_ipv4  \\\n",
       "count           64988          64988          64988              64988   \n",
       "unique          64585           8054           1200                 11   \n",
       "top     192.168.0.128  192.168.0.128  192.168.0.128                  0   \n",
       "freq              257          21778          21520              59569   \n",
       "\n",
       "       arp.src.proto_ipv4 http.file_data http.request.uri.query  \\\n",
       "count               64988          64988                  64988   \n",
       "unique                 10             76                    258   \n",
       "top                     0            0.0                    0.0   \n",
       "freq                57137          51263                  62801   \n",
       "\n",
       "       http.request.full_uri http.response tcp.flags.ack tcp.options  \\\n",
       "count                  64988         64988         64988       64988   \n",
       "unique                   534             4             5       10722   \n",
       "top                      0.0           0.0           1.0           0   \n",
       "freq                   49285         54281         36958       37950   \n",
       "\n",
       "       tcp.payload tcp.srcport udp.port dns.qry.name dns.qry.qu  \\\n",
       "count        64988       64988    64988        64988      64988   \n",
       "unique        7248       16857       40          306         13   \n",
       "top              0      1883.0      0.0          0.0        0.0   \n",
       "freq         41799       15097    49924        54679      54936   \n",
       "\n",
       "       dns.retransmission Attack_type  \n",
       "count               64988       64988  \n",
       "unique                  6          15  \n",
       "top                   0.0      Normal  \n",
       "freq                59943       36496  "
      ]
     },
     "execution_count": 31,
     "metadata": {},
     "output_type": "execute_result"
    }
   ],
   "source": [
    "df_cat = df.select_dtypes(exclude=[np.number])\n",
    "df_cat.describe(include='all')"
   ]
  },
  {
   "cell_type": "code",
   "execution_count": 71,
   "metadata": {},
   "outputs": [],
   "source": [
    "drop_columns = [\"frame.time\", \"ip.src_host\", \"ip.dst_host\", \"arp.dst.proto_ipv4\", \"arp.src.proto_ipv4\",\n",
    "                \"http.file_data\", \"http.request.uri.query\",\n",
    "                \"http.request.full_uri\", \"tcp.options\", \"tcp.payload\",\n",
    "                \"tcp.srcport\"]\n",
    "df.drop(drop_columns, axis = 1, inplace = True)\n",
    "df.dropna(axis = 0, how = 'any', inplace = True)\n",
    "# df.drop_duplicates(subset = None, keep = \"first\", inplace = True)\n",
    "df = shuffle(df)"
   ]
  },
  {
   "cell_type": "code",
   "execution_count": 73,
   "metadata": {},
   "outputs": [
    {
     "name": "stdout",
     "output_type": "stream",
     "text": [
      "Attack_type\n",
      "Normal                   1615643\n",
      "DDoS_UDP                  121567\n",
      "DDoS_ICMP                 116436\n",
      "SQL_injection              51203\n",
      "Password                   50153\n",
      "Vulnerability_scanner      50110\n",
      "DDoS_TCP                   50062\n",
      "DDoS_HTTP                  49911\n",
      "Uploading                  37634\n",
      "Backdoor                   24862\n",
      "Port_Scanning              22564\n",
      "XSS                        15915\n",
      "Ransomware                 10925\n",
      "Fingerprinting              1001\n",
      "MITM                         400\n",
      "Name: count, dtype: int64\n"
     ]
    }
   ],
   "source": [
    "print(df['Attack_type'].value_counts())"
   ]
  },
  {
   "cell_type": "code",
   "execution_count": 75,
   "metadata": {},
   "outputs": [
    {
     "name": "stdout",
     "output_type": "stream",
     "text": [
      "<class 'pandas.core.frame.DataFrame'>\n",
      "Index: 2218386 entries, 235239 to 973292\n",
      "Data columns (total 64 columns):\n",
      " #   Column                     Dtype  \n",
      "---  ------                     -----  \n",
      " 0   arp.opcode                 float64\n",
      " 1   arp.hw.size                float64\n",
      " 2   icmp.checksum              float64\n",
      " 3   icmp.seq_le                float64\n",
      " 4   icmp.transmit_timestamp    float64\n",
      " 5   icmp.unused                float64\n",
      " 6   http.content_length        float64\n",
      " 7   http.response              float64\n",
      " 8   tcp.ack                    float64\n",
      " 9   tcp.ack_raw                float64\n",
      " 10  tcp.checksum               float64\n",
      " 11  tcp.connection.fin         float64\n",
      " 12  tcp.connection.rst         float64\n",
      " 13  tcp.connection.syn         float64\n",
      " 14  tcp.connection.synack      float64\n",
      " 15  tcp.dstport                float64\n",
      " 16  tcp.flags                  float64\n",
      " 17  tcp.flags.ack              float64\n",
      " 18  tcp.len                    float64\n",
      " 19  tcp.seq                    float64\n",
      " 20  udp.port                   float64\n",
      " 21  udp.stream                 float64\n",
      " 22  udp.time_delta             float64\n",
      " 23  dns.qry.name               float64\n",
      " 24  dns.qry.qu                 float64\n",
      " 25  dns.retransmission         float64\n",
      " 26  dns.retransmit_request     float64\n",
      " 27  dns.retransmit_request_in  float64\n",
      " 28  mbtcp.len                  float64\n",
      " 29  mbtcp.trans_id             float64\n",
      " 30  mbtcp.unit_id              float64\n",
      " 31  Attack_label               int64  \n",
      " 32  Attack_type                object \n",
      " 33  http1_encoded              int64  \n",
      " 34  http2_encoded              int64  \n",
      " 35  http3_encoded              int64  \n",
      " 36  dns_encoded                int64  \n",
      " 37  http1_0                    float64\n",
      " 38  http1_1                    float64\n",
      " 39  http1_2                    float64\n",
      " 40  http1_3                    float64\n",
      " 41  http1_4                    float64\n",
      " 42  http1_5                    float64\n",
      " 43  http1_6                    float64\n",
      " 44  http1_7                    float64\n",
      " 45  http1_8                    float64\n",
      " 46  http2_0                    float64\n",
      " 47  http2_1                    float64\n",
      " 48  http2_2                    float64\n",
      " 49  http2_3                    float64\n",
      " 50  http2_4                    float64\n",
      " 51  http3_0                    float64\n",
      " 52  http3_1                    float64\n",
      " 53  http3_2                    float64\n",
      " 54  http3_3                    float64\n",
      " 55  http3_4                    float64\n",
      " 56  http3_5                    float64\n",
      " 57  http3_6                    float64\n",
      " 58  http3_7                    float64\n",
      " 59  http3_8                    float64\n",
      " 60  http3_9                    float64\n",
      " 61  http3_10                   float64\n",
      " 62  http3_11                   float64\n",
      " 63  http3_12                   float64\n",
      "dtypes: float64(58), int64(5), object(1)\n",
      "memory usage: 1.1+ GB\n"
     ]
    }
   ],
   "source": [
    "df.info()"
   ]
  },
  {
   "cell_type": "code",
   "execution_count": 77,
   "metadata": {},
   "outputs": [
    {
     "name": "stdout",
     "output_type": "stream",
     "text": [
      "Attack_type\n",
      "Normal                   1615643\n",
      "DDoS_UDP                  121567\n",
      "DDoS_ICMP                 116436\n",
      "SQL_injection              51203\n",
      "Password                   50153\n",
      "Vulnerability_scanner      50110\n",
      "DDoS_TCP                   50062\n",
      "DDoS_HTTP                  49911\n",
      "Uploading                  37634\n",
      "Backdoor                   24862\n",
      "Port_Scanning              22564\n",
      "XSS                        15915\n",
      "Ransomware                 10925\n",
      "Fingerprinting              1001\n",
      "MITM                         400\n",
      "Name: count, dtype: int64\n"
     ]
    }
   ],
   "source": [
    "print(df['Attack_type'].value_counts())"
   ]
  },
  {
   "cell_type": "code",
   "execution_count": 81,
   "metadata": {},
   "outputs": [
    {
     "name": "stderr",
     "output_type": "stream",
     "text": [
      "/var/folders/k6/3vxq_y592f389sfrwrxjw1k40000gn/T/ipykernel_61162/904914070.py:29: FutureWarning: \n",
      "\n",
      "Passing `palette` without assigning `hue` is deprecated and will be removed in v0.14.0. Assign the `x` variable to `hue` and set `legend=False` for the same effect.\n",
      "\n",
      "  ax = sns.barplot(x=attack_counts_series.index, y=attack_counts_series.values, palette='viridis')\n"
     ]
    },
    {
     "data": {
      "image/png": "[encoded data removed]",
      "text/plain": [
       "<Figure size 1000x600 with 1 Axes>"
      ]
     },
     "metadata": {},
     "output_type": "display_data"
    }
   ],
   "source": [
    "import matplotlib.pyplot as plt\n",
    "import seaborn as sns\n",
    "import pandas as pd\n",
    "\n",
    "# Sample data from your provided value counts\n",
    "attack_counts = {\n",
    "    'Normal': 1615643,\n",
    "    'DDoS_UDP': 121567,\n",
    "    'DDoS_ICMP': 116436,\n",
    "    'SQL_injection': 51203,\n",
    "    'DDoS_TCP': 50062,\n",
    "    'Vulnerability_scanner': 50110,\n",
    "    'Password': 50153,\n",
    "    'DDoS_HTTP': 49911,\n",
    "    'Uploading': 37634,\n",
    "    'Backdoor': 24862,\n",
    "    'Port_Scanning': 22564,\n",
    "    'XSS': 15915,\n",
    "    'Ransomware': 10925,\n",
    "    'Fingerprinting': 1001,\n",
    "    'MITM': 400\n",
    "}\n",
    "\n",
    "# Convert the dictionary into a pandas Series (mimicking df['Attack_type'].value_counts())\n",
    "attack_counts_series = pd.Series(attack_counts)\n",
    "\n",
    "# Plotting using seaborn\n",
    "plt.figure(figsize=(10, 6))\n",
    "ax = sns.barplot(x=attack_counts_series.index, y=attack_counts_series.values, palette='viridis')\n",
    "\n",
    "# Add labels and title\n",
    "plt.xlabel('Attack Type', fontsize=12)\n",
    "plt.ylabel('Count', fontsize=12)\n",
    "plt.title('Attack Type Counts', fontsize=14)\n",
    "plt.xticks(rotation=45, ha='right')  # Rotate x-axis labels for better readability\n",
    "\n",
    "# Show exact values on top of the bars\n",
    "for p in ax.patches:\n",
    "    ax.annotate(f'{int(p.get_height())}', \n",
    "                (p.get_x() + p.get_width() / 2., p.get_height()), \n",
    "                xytext=(0, 5),  # Vertical offset\n",
    "                textcoords='offset points',\n",
    "                ha='center', va='bottom', fontsize=10)\n",
    "\n",
    "# Show plot without scientific notation\n",
    "plt.ticklabel_format(style='plain', axis='y')\n",
    "\n",
    "# Adjust layout to make everything fit\n",
    "plt.tight_layout()\n",
    "plt.show()\n"
   ]
  },
  {
   "cell_type": "code",
   "execution_count": 79,
   "metadata": {},
   "outputs": [],
   "source": [
    "# Your DataFrame is named 'data' in this example\n",
    "df.to_csv('Preprocessed_edgeIIot_full.csv', index=False)"
   ]
  },
  {
   "cell_type": "code",
   "execution_count": 87,
   "metadata": {},
   "outputs": [],
   "source": [
    "reduced_df = df.head(500000)"
   ]
  },
  {
   "cell_type": "code",
   "execution_count": 95,
   "metadata": {},
   "outputs": [
    {
     "name": "stdout",
     "output_type": "stream",
     "text": [
      "Attack_type\n",
      "Normal                   36513\n",
      "DDoS_UDP                  2799\n",
      "DDoS_ICMP                 2547\n",
      "Password                  1141\n",
      "SQL_injection             1141\n",
      "Vulnerability_scanner     1140\n",
      "DDoS_TCP                  1106\n",
      "DDoS_HTTP                 1103\n",
      "Uploading                  827\n",
      "Port_Scanning              535\n",
      "Backdoor                   527\n",
      "XSS                        331\n",
      "Ransomware                 257\n",
      "Fingerprinting              23\n",
      "MITM                        10\n",
      "Name: count, dtype: int64\n"
     ]
    }
   ],
   "source": [
    "print(reduced_df['Attack_type'].value_counts())\n",
    "reduced_df.to_csv('Preprocessed_edgeIIot_500k.csv', index=False)"
   ]
  },
  {
   "cell_type": "code",
   "execution_count": null,
   "metadata": {},
   "outputs": [],
   "source": []
  }
 ],
 "metadata": {
  "kernelspec": {
   "display_name": "lstmvenv",
   "language": "python",
   "name": "venv"
  },
  "language_info": {
   "codemirror_mode": {
    "name": "ipython",
    "version": 3
   },
   "file_extension": ".py",
   "mimetype": "text/x-python",
   "name": "python",
   "nbconvert_exporter": "python",
   "pygments_lexer": "ipython3",
   "version": "3.10.16"
  }
 },
 "nbformat": 4,
 "nbformat_minor": 4
}
