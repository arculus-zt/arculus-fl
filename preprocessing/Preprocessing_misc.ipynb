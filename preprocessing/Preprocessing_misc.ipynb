{
 "cells": [
  {
   "cell_type": "code",
   "execution_count": 2,
   "id": "049f28bc-87cc-4245-b7da-063db6e0b77b",
   "metadata": {},
   "outputs": [],
   "source": [
    "import pandas as pd"
   ]
  },
  {
   "cell_type": "code",
   "execution_count": 64,
   "id": "af573578-af6b-43d7-976d-73cefc04c6d1",
   "metadata": {},
   "outputs": [
    {
     "name": "stdout",
     "output_type": "stream",
     "text": [
      "Updated CSV saved as ../attacks/sql_injection_attack_mergable.csv\n"
     ]
    }
   ],
   "source": [
    "# Load the CSV file\n",
    "file_path = \"../attacks/sql_injection_attack.csv\"  # Change this to your file name\n",
    "df = pd.read_csv(file_path)\n",
    "df.fillna(0, inplace=True)\n",
    "df['Attack_type']='SQL_injection'\n",
    "df['Attack_label']=1.0\n",
    "df['tcp.checksum'] = df['tcp.checksum'].apply(lambda x: int(x, 16) if isinstance(x, str) and x.startswith('0x') else x)\n",
    "df['tcp.flags'] = df['tcp.flags'].apply(lambda x: int(x, 16) if isinstance(x, str) and x.startswith('0x') else x)\n",
    "df['tcp.checksum'] = df['tcp.checksum'].astype(float)\n",
    "df['tcp.flags'] = df['tcp.flags'].astype(float)\n",
    "# # Save the updated CSV\n",
    "output_path = \"../attacks/sql_injection_attack_mergable.csv\"\n",
    "df.to_csv(output_path, index=False)\n",
    "\n",
    "print(f\"Updated CSV saved as {output_path}\")"
   ]
  },
  {
   "cell_type": "code",
   "execution_count": 61,
   "id": "8aae5862-ed25-4738-bc05-2c1827a00ec5",
   "metadata": {},
   "outputs": [
    {
     "name": "stdout",
     "output_type": "stream",
     "text": [
      "<class 'pandas.core.frame.DataFrame'>\n",
      "RangeIndex: 5000 entries, 0 to 4999\n",
      "Data columns (total 63 columns):\n",
      " #   Column                     Non-Null Count  Dtype  \n",
      "---  ------                     --------------  -----  \n",
      " 0   frame.time                 5000 non-null   object \n",
      " 1   ip.src                     5000 non-null   object \n",
      " 2   ip.dst                     5000 non-null   object \n",
      " 3   arp.dst.proto_ipv4         5000 non-null   float64\n",
      " 4   arp.opcode                 5000 non-null   float64\n",
      " 5   arp.hw.size                5000 non-null   float64\n",
      " 6   arp.src.proto_ipv4         5000 non-null   float64\n",
      " 7   icmp.checksum              5000 non-null   float64\n",
      " 8   icmp.seq_le                5000 non-null   float64\n",
      " 9   icmp.transmit_timestamp    5000 non-null   float64\n",
      " 10  icmp.unused                5000 non-null   float64\n",
      " 11  http.file_data             5000 non-null   object \n",
      " 12  http.content_length        5000 non-null   float64\n",
      " 13  http.request.uri.query     5000 non-null   float64\n",
      " 14  http1                      5000 non-null   object \n",
      " 15  http2                      5000 non-null   float64\n",
      " 16  http.request.full_uri      5000 non-null   object \n",
      " 17  http3                      5000 non-null   object \n",
      " 18  http.response              5000 non-null   object \n",
      " 19  http.tls_port              5000 non-null   float64\n",
      " 20  tcp.ack                    5000 non-null   float64\n",
      " 21  tcp.ack_raw                5000 non-null   float64\n",
      " 22  tcp.checksum               5000 non-null   float64\n",
      " 23  tcp.connection.fin         5000 non-null   float64\n",
      " 24  tcp.connection.rst         5000 non-null   float64\n",
      " 25  tcp.connection.syn         5000 non-null   float64\n",
      " 26  tcp.connection.synack      5000 non-null   float64\n",
      " 27  tcp.dstport                5000 non-null   float64\n",
      " 28  tcp.flags                  5000 non-null   float64\n",
      " 29  tcp.flags.ack              5000 non-null   object \n",
      " 30  tcp.len                    5000 non-null   float64\n",
      " 31  tcp.options                5000 non-null   object \n",
      " 32  tcp.payload                5000 non-null   object \n",
      " 33  tcp.seq                    5000 non-null   float64\n",
      " 34  tcp.srcport                5000 non-null   float64\n",
      " 35  udp.port                   5000 non-null   object \n",
      " 36  udp.stream                 5000 non-null   float64\n",
      " 37  udp.time_delta             5000 non-null   float64\n",
      " 38  dns.qry.name               5000 non-null   object \n",
      " 39  dns                        5000 non-null   float64\n",
      " 40  dns.qry.qu                 5000 non-null   object \n",
      " 41  dns.qry.type               5000 non-null   float64\n",
      " 42  dns.retransmission         5000 non-null   float64\n",
      " 43  dns.retransmit_request     5000 non-null   float64\n",
      " 44  dns.retransmit_request_in  5000 non-null   float64\n",
      " 45  mqtt1                      5000 non-null   float64\n",
      " 46  mqtt.conflag.cleansess     5000 non-null   float64\n",
      " 47  mqtt.conflags              5000 non-null   float64\n",
      " 48  mqtt.hdrflags              5000 non-null   float64\n",
      " 49  mqtt.len                   5000 non-null   float64\n",
      " 50  mqtt.msg_decoded_as        5000 non-null   float64\n",
      " 51  mqtt.msg                   5000 non-null   float64\n",
      " 52  mqtt.msgtype               5000 non-null   float64\n",
      " 53  mqtt.proto_len             5000 non-null   float64\n",
      " 54  mqtt2                      5000 non-null   float64\n",
      " 55  mqtt3                      5000 non-null   float64\n",
      " 56  mqtt.topic_len             5000 non-null   float64\n",
      " 57  mqtt.ver                   5000 non-null   float64\n",
      " 58  mbtcp.len                  5000 non-null   float64\n",
      " 59  mbtcp.trans_id             5000 non-null   float64\n",
      " 60  mbtcp.unit_id              5000 non-null   float64\n",
      " 61  Attack_type                5000 non-null   object \n",
      " 62  Attack_label               5000 non-null   float64\n",
      "dtypes: float64(48), object(15)\n",
      "memory usage: 2.4+ MB\n"
     ]
    }
   ],
   "source": [
    "df = df.rename(columns={'http.request.method': 'http1', 'http.referer': 'http2', 'http.request.version': 'http3', 'dns.qry.name.len': 'dns', 'mqtt.conack.flags': 'mqtt1', 'mqtt.protoname': 'mqtt2', 'mqtt.topic': 'mqtt3'})\n",
    "# df = df.drop(df.columns[0], axis=1)\n",
    "df.info()\n",
    "df.to_csv('../attacks/ddos_http_attack_mergable.csv')"
   ]
  },
  {
   "cell_type": "code",
   "execution_count": 13,
   "id": "e4bb6058-38ff-4e3b-81d4-58d7c96d1c8c",
   "metadata": {},
   "outputs": [
    {
     "name": "stdout",
     "output_type": "stream",
     "text": [
      "/Users/bishwaswagle/Desktop/new-fl-repos/FL-IDS/preprocessing\n",
      "<class 'pandas.core.frame.DataFrame'>\n",
      "RangeIndex: 5000 entries, 0 to 4999\n",
      "Data columns (total 63 columns):\n",
      " #   Column                     Non-Null Count  Dtype  \n",
      "---  ------                     --------------  -----  \n",
      " 0   frame.time                 5000 non-null   object \n",
      " 1   ip.src                     5000 non-null   object \n",
      " 2   ip.dst                     5000 non-null   object \n",
      " 3   arp.dst.proto_ipv4         5000 non-null   object \n",
      " 4   arp.opcode                 5000 non-null   float64\n",
      " 5   arp.hw.size                5000 non-null   float64\n",
      " 6   arp.src.proto_ipv4         5000 non-null   object \n",
      " 7   icmp.checksum              5000 non-null   float64\n",
      " 8   icmp.seq_le                5000 non-null   float64\n",
      " 9   icmp.transmit_timestamp    5000 non-null   float64\n",
      " 10  icmp.unused                5000 non-null   float64\n",
      " 11  http.file_data             5000 non-null   object \n",
      " 12  http.content_length        5000 non-null   float64\n",
      " 13  http.request.uri.query     5000 non-null   float64\n",
      " 14  http.request.method        5000 non-null   object \n",
      " 15  http.referer               5000 non-null   float64\n",
      " 16  http.request.full_uri      5000 non-null   object \n",
      " 17  http.request.version       5000 non-null   object \n",
      " 18  http.response              5000 non-null   int64  \n",
      " 19  http.tls_port              5000 non-null   float64\n",
      " 20  tcp.ack                    5000 non-null   float64\n",
      " 21  tcp.ack_raw                5000 non-null   float64\n",
      " 22  tcp.checksum               5000 non-null   float64\n",
      " 23  tcp.connection.fin         5000 non-null   float64\n",
      " 24  tcp.connection.rst         5000 non-null   float64\n",
      " 25  tcp.connection.syn         5000 non-null   float64\n",
      " 26  tcp.connection.synack      5000 non-null   float64\n",
      " 27  tcp.dstport                5000 non-null   float64\n",
      " 28  tcp.flags                  5000 non-null   float64\n",
      " 29  tcp.flags.ack              5000 non-null   int64  \n",
      " 30  tcp.len                    5000 non-null   float64\n",
      " 31  tcp.options                5000 non-null   object \n",
      " 32  tcp.payload                5000 non-null   object \n",
      " 33  tcp.seq                    5000 non-null   float64\n",
      " 34  tcp.srcport                5000 non-null   float64\n",
      " 35  udp.port                   5000 non-null   object \n",
      " 36  udp.stream                 5000 non-null   float64\n",
      " 37  udp.time_delta             5000 non-null   float64\n",
      " 38  dns.qry.name               5000 non-null   object \n",
      " 39  dns.qry.name.len           5000 non-null   float64\n",
      " 40  dns.qry.qu                 5000 non-null   int64  \n",
      " 41  dns.qry.type               5000 non-null   float64\n",
      " 42  dns.retransmission         5000 non-null   int64  \n",
      " 43  dns.retransmit_request     5000 non-null   float64\n",
      " 44  dns.retransmit_request_in  5000 non-null   float64\n",
      " 45  mqtt.conack.flags          5000 non-null   float64\n",
      " 46  mqtt.conflag.cleansess     5000 non-null   float64\n",
      " 47  mqtt.conflags              5000 non-null   float64\n",
      " 48  mqtt.hdrflags              5000 non-null   float64\n",
      " 49  mqtt.len                   5000 non-null   float64\n",
      " 50  mqtt.msg_decoded_as        5000 non-null   float64\n",
      " 51  mqtt.msg                   5000 non-null   float64\n",
      " 52  mqtt.msgtype               5000 non-null   float64\n",
      " 53  mqtt.proto_len             5000 non-null   float64\n",
      " 54  mqtt.protoname             5000 non-null   float64\n",
      " 55  mqtt.topic                 5000 non-null   float64\n",
      " 56  mqtt.topic_len             5000 non-null   float64\n",
      " 57  mqtt.ver                   5000 non-null   float64\n",
      " 58  mbtcp.len                  5000 non-null   float64\n",
      " 59  mbtcp.trans_id             5000 non-null   float64\n",
      " 60  mbtcp.unit_id              5000 non-null   float64\n",
      " 61  Attack_type                5000 non-null   object \n",
      " 62  Attack_label               5000 non-null   float64\n",
      "dtypes: float64(45), int64(4), object(14)\n",
      "memory usage: 2.4+ MB\n",
      "Updated CSV saved as ../ddos_http_attack_to_merge.csv\n"
     ]
    }
   ],
   "source": [
    "# Load the CSV file\n",
    "!pwd\n",
    "file_path = \"../attacks/sql_injection_attack_to_merge.csv\"  # Change this to your file name\n",
    "df = pd.read_csv(file_path)\n",
    "df.fillna(0, inplace=True)\n",
    "df['tcp.checksum'] = df['tcp.checksum'].apply(lambda x: int(x, 16) if isinstance(x, str) and x.startswith('0x') else x)\n",
    "df['tcp.flags'] = df['tcp.flags'].apply(lambda x: int(x, 16) if isinstance(x, str) and x.startswith('0x') else x)\n",
    "df['tcp.checksum'] = df['tcp.checksum'].astype(float)\n",
    "df['tcp.flags'] = df['tcp.flags'].astype(float)\n",
    "df.info()\n",
    "df.to_csv('../attacks/sql_injection_attack_to_merge.csv')\n",
    "print(f\"Updated CSV saved as {output_path}\")"
   ]
  },
  {
   "cell_type": "code",
   "execution_count": 15,
   "id": "7374a5c5-6e7a-4d37-a6e1-a4d6ad9181ac",
   "metadata": {},
   "outputs": [
    {
     "name": "stdout",
     "output_type": "stream",
     "text": [
      "/Users/bishwaswagle/Desktop/new-fl-repos/FL-IDS/preprocessing\n",
      "<class 'pandas.core.frame.DataFrame'>\n",
      "RangeIndex: 5000 entries, 0 to 4999\n",
      "Data columns (total 63 columns):\n",
      " #   Column                     Non-Null Count  Dtype  \n",
      "---  ------                     --------------  -----  \n",
      " 0   frame.time                 5000 non-null   object \n",
      " 1   ip.src                     5000 non-null   object \n",
      " 2   ip.dst                     5000 non-null   object \n",
      " 3   arp.dst.proto_ipv4         5000 non-null   object \n",
      " 4   arp.opcode                 5000 non-null   float64\n",
      " 5   arp.hw.size                5000 non-null   float64\n",
      " 6   arp.src.proto_ipv4         5000 non-null   object \n",
      " 7   icmp.checksum              5000 non-null   float64\n",
      " 8   icmp.seq_le                5000 non-null   float64\n",
      " 9   icmp.transmit_timestamp    5000 non-null   float64\n",
      " 10  icmp.unused                5000 non-null   float64\n",
      " 11  http.file_data             5000 non-null   float64\n",
      " 12  http.content_length        5000 non-null   float64\n",
      " 13  http.request.uri.query     5000 non-null   float64\n",
      " 14  http.request.method        5000 non-null   float64\n",
      " 15  http.referer               5000 non-null   float64\n",
      " 16  http.request.full_uri      5000 non-null   float64\n",
      " 17  http.request.version       5000 non-null   float64\n",
      " 18  http.response              5000 non-null   float64\n",
      " 19  http.tls_port              5000 non-null   float64\n",
      " 20  tcp.ack                    5000 non-null   float64\n",
      " 21  tcp.ack_raw                5000 non-null   float64\n",
      " 22  tcp.checksum               5000 non-null   float64\n",
      " 23  tcp.connection.fin         5000 non-null   float64\n",
      " 24  tcp.connection.rst         5000 non-null   float64\n",
      " 25  tcp.connection.syn         5000 non-null   float64\n",
      " 26  tcp.connection.synack      5000 non-null   float64\n",
      " 27  tcp.dstport                5000 non-null   float64\n",
      " 28  tcp.flags                  5000 non-null   float64\n",
      " 29  tcp.flags.ack              5000 non-null   object \n",
      " 30  tcp.len                    5000 non-null   float64\n",
      " 31  tcp.options                5000 non-null   object \n",
      " 32  tcp.payload                5000 non-null   object \n",
      " 33  tcp.seq                    5000 non-null   float64\n",
      " 34  tcp.srcport                5000 non-null   float64\n",
      " 35  udp.port                   5000 non-null   object \n",
      " 36  udp.stream                 5000 non-null   float64\n",
      " 37  udp.time_delta             5000 non-null   float64\n",
      " 38  dns.qry.name               5000 non-null   float64\n",
      " 39  dns.qry.name.len           5000 non-null   float64\n",
      " 40  dns.qry.qu                 5000 non-null   float64\n",
      " 41  dns.qry.type               5000 non-null   float64\n",
      " 42  dns.retransmission         5000 non-null   float64\n",
      " 43  dns.retransmit_request     5000 non-null   float64\n",
      " 44  dns.retransmit_request_in  5000 non-null   float64\n",
      " 45  mqtt.conack.flags          5000 non-null   float64\n",
      " 46  mqtt.conflag.cleansess     5000 non-null   float64\n",
      " 47  mqtt.conflags              5000 non-null   float64\n",
      " 48  mqtt.hdrflags              5000 non-null   float64\n",
      " 49  mqtt.len                   5000 non-null   float64\n",
      " 50  mqtt.msg_decoded_as        5000 non-null   float64\n",
      " 51  mqtt.msg                   5000 non-null   float64\n",
      " 52  mqtt.msgtype               5000 non-null   float64\n",
      " 53  mqtt.proto_len             5000 non-null   float64\n",
      " 54  mqtt.protoname             5000 non-null   float64\n",
      " 55  mqtt.topic                 5000 non-null   float64\n",
      " 56  mqtt.topic_len             5000 non-null   float64\n",
      " 57  mqtt.ver                   5000 non-null   float64\n",
      " 58  mbtcp.len                  5000 non-null   float64\n",
      " 59  mbtcp.trans_id             5000 non-null   float64\n",
      " 60  mbtcp.unit_id              5000 non-null   float64\n",
      " 61  Attack_type                5000 non-null   object \n",
      " 62  Attack_label               5000 non-null   float64\n",
      "dtypes: float64(53), object(10)\n",
      "memory usage: 2.4+ MB\n",
      "Updated CSV saved as ../ddos_http_attack_to_merge.csv\n"
     ]
    }
   ],
   "source": [
    "!pwd\n",
    "file_path = \"../attacks/ddos_tcp_attack.csv\"  # Change this to your file name\n",
    "df = pd.read_csv(file_path)\n",
    "df.fillna(0, inplace=True)\n",
    "df['Attack_type']='DDoS_TCP'\n",
    "df['Attack_label']=1.0\n",
    "df['tcp.checksum'] = df['tcp.checksum'].apply(lambda x: int(x, 16) if isinstance(x, str) and x.startswith('0x') else x)\n",
    "df['tcp.flags'] = df['tcp.flags'].apply(lambda x: int(x, 16) if isinstance(x, str) and x.startswith('0x') else x)\n",
    "df['tcp.checksum'] = df['tcp.checksum'].astype(float)\n",
    "df['tcp.flags'] = df['tcp.flags'].astype(float)\n",
    "df.info()\n",
    "df.to_csv('../attacks/ddos_tcp_attack_to_merge.csv')\n",
    "print(f\"Updated CSV saved as {output_path}\")"
   ]
  },
  {
   "cell_type": "code",
   "execution_count": 68,
   "id": "c2f80dad-d5ca-4b82-97df-98346fd77242",
   "metadata": {},
   "outputs": [
    {
     "name": "stderr",
     "output_type": "stream",
     "text": [
      "/var/folders/k6/3vxq_y592f389sfrwrxjw1k40000gn/T/ipykernel_8411/1218380485.py:2: DtypeWarning: Columns (16,35) have mixed types. Specify dtype option on import or set low_memory=False.\n",
      "  df0 = pd.read_csv('../attacks/shuffled_DNN-EdgeIIot-dataset.csv')\n"
     ]
    },
    {
     "name": "stdout",
     "output_type": "stream",
     "text": [
      "Datasets have been successfully appended and saved!\n"
     ]
    }
   ],
   "source": [
    "\n",
    "# Load your datasets\n",
    "df0 = pd.read_csv('../attacks/shuffled_DNN-EdgeIIot-dataset.csv')\n",
    "df1 = pd.read_csv('../attacks/ddos_tcp_attack_mergable.csv')\n",
    "df2 = pd.read_csv('../attacks/ddos_http_attack_mergable.csv')\n",
    "df3 = pd.read_csv('../attacks/sql_injection_attack_mergable.csv')\n",
    "\n",
    "# Append df2 to df1, and then df3 to the resulting DataFrame\n",
    "df_combined = pd.concat([df0, df1, df2, df3], ignore_index=True)\n",
    "\n",
    "# Save the combined DataFrame to a new CSV\n",
    "df_combined.to_csv('../attacks/combined_dataset_to_preprocess.csv', index=False)\n",
    "\n",
    "print(\"Datasets have been successfully appended and saved!\")"
   ]
  },
  {
   "cell_type": "code",
   "execution_count": 19,
   "id": "9790b153-5a70-4b34-b1aa-9381f006a412",
   "metadata": {},
   "outputs": [
    {
     "data": {
      "text/plain": [
       "(5000, 63)"
      ]
     },
     "execution_count": 19,
     "metadata": {},
     "output_type": "execute_result"
    }
   ],
   "source": [
    "df.shape"
   ]
  },
  {
   "cell_type": "code",
   "execution_count": 21,
   "id": "f88f95f2-4872-48d1-9a3d-4f2a979a9c0a",
   "metadata": {},
   "outputs": [],
   "source": [
    "columns_to_keep = [\n",
    "    'frame.time','arp.dst.proto_ipv4','arp.opcode','arp.hw.size','arp.src.proto_ipv4','icmp.checksum','icmp.seq_le','icmp.transmit_timestamp','icmp.unused','http.file_data','http.content_length','http.request.uri.query','http.request.method','http.referer','http.request.full_uri','http.request.version','http.response','http.tls_port','tcp.ack','tcp.ack_raw','tcp.checksum','tcp.connection.fin','tcp.connection.rst','tcp.connection.syn','tcp.connection.synack','tcp.dstport','tcp.flags','tcp.flags.ack','tcp.len','tcp.options','tcp.payload','tcp.seq','tcp.srcport','udp.port','udp.stream','udp.time_delta','dns.qry.name','dns.qry.name.len','dns.qry.qu','dns.qry.type','dns.retransmission','dns.retransmit_request','dns.retransmit_request_in','mbtcp.len', 'mbtcp.trans_id', 'mbtcp.unit_id','Attack_label','Attack_type'\n",
    "]\n",
    "df_combined = df_combined[columns_to_keep]\n",
    "df_combined.to_csv('../attacks/combined_dataset.csv', index=False)"
   ]
  },
  {
   "cell_type": "code",
   "execution_count": 25,
   "id": "7328d82a-6dfb-4faa-9256-771ffc89a0ff",
   "metadata": {},
   "outputs": [
    {
     "name": "stdout",
     "output_type": "stream",
     "text": [
      "<class 'pandas.core.frame.DataFrame'>\n",
      "RangeIndex: 15000 entries, 0 to 14999\n",
      "Data columns (total 48 columns):\n",
      " #   Column                     Non-Null Count  Dtype  \n",
      "---  ------                     --------------  -----  \n",
      " 0   frame.time                 15000 non-null  object \n",
      " 1   arp.dst.proto_ipv4         15000 non-null  object \n",
      " 2   arp.opcode                 15000 non-null  float64\n",
      " 3   arp.hw.size                15000 non-null  float64\n",
      " 4   arp.src.proto_ipv4         15000 non-null  object \n",
      " 5   icmp.checksum              15000 non-null  float64\n",
      " 6   icmp.seq_le                15000 non-null  float64\n",
      " 7   icmp.transmit_timestamp    15000 non-null  float64\n",
      " 8   icmp.unused                15000 non-null  float64\n",
      " 9   http.file_data             15000 non-null  object \n",
      " 10  http.content_length        15000 non-null  float64\n",
      " 11  http.request.uri.query     15000 non-null  float64\n",
      " 12  http.request.method        15000 non-null  object \n",
      " 13  http.referer               15000 non-null  float64\n",
      " 14  http.request.full_uri      15000 non-null  object \n",
      " 15  http.request.version       15000 non-null  object \n",
      " 16  http.response              15000 non-null  float64\n",
      " 17  http.tls_port              15000 non-null  float64\n",
      " 18  tcp.ack                    15000 non-null  float64\n",
      " 19  tcp.ack_raw                15000 non-null  float64\n",
      " 20  tcp.checksum               15000 non-null  object \n",
      " 21  tcp.connection.fin         15000 non-null  float64\n",
      " 22  tcp.connection.rst         15000 non-null  float64\n",
      " 23  tcp.connection.syn         15000 non-null  float64\n",
      " 24  tcp.connection.synack      15000 non-null  float64\n",
      " 25  tcp.dstport                15000 non-null  float64\n",
      " 26  tcp.flags                  15000 non-null  object \n",
      " 27  tcp.flags.ack              15000 non-null  object \n",
      " 28  tcp.len                    15000 non-null  float64\n",
      " 29  tcp.options                15000 non-null  object \n",
      " 30  tcp.payload                15000 non-null  object \n",
      " 31  tcp.seq                    15000 non-null  float64\n",
      " 32  tcp.srcport                15000 non-null  float64\n",
      " 33  udp.port                   15000 non-null  object \n",
      " 34  udp.stream                 15000 non-null  float64\n",
      " 35  udp.time_delta             15000 non-null  float64\n",
      " 36  dns.qry.name               15000 non-null  object \n",
      " 37  dns.qry.name.len           15000 non-null  float64\n",
      " 38  dns.qry.qu                 15000 non-null  float64\n",
      " 39  dns.qry.type               15000 non-null  float64\n",
      " 40  dns.retransmission         15000 non-null  float64\n",
      " 41  dns.retransmit_request     15000 non-null  float64\n",
      " 42  dns.retransmit_request_in  15000 non-null  float64\n",
      " 43  mbtcp.len                  15000 non-null  float64\n",
      " 44  mbtcp.trans_id             15000 non-null  float64\n",
      " 45  mbtcp.unit_id              15000 non-null  float64\n",
      " 46  Attack_label               15000 non-null  float64\n",
      " 47  Attack_type                15000 non-null  object \n",
      "dtypes: float64(33), object(15)\n",
      "memory usage: 5.5+ MB\n"
     ]
    }
   ],
   "source": [
    "df_combined.info()"
   ]
  },
  {
   "cell_type": "code",
   "execution_count": 7,
   "id": "216be1b7-3636-40b1-87f7-3fb45cacfe17",
   "metadata": {},
   "outputs": [],
   "source": [
    "import pandas as pd\n",
    "import numpy as np\n",
    "from sklearn.utils import shuffle\n",
    "from hashlib import md5\n",
    "from sklearn.preprocessing import LabelEncoder, OneHotEncoder"
   ]
  },
  {
   "cell_type": "code",
   "execution_count": 8,
   "id": "0f9723d5-0b58-4976-a1f7-5eaae7659109",
   "metadata": {},
   "outputs": [],
   "source": [
    "df_combined = pd.read_csv('../attacks/combined_dataset.csv')"
   ]
  },
  {
   "cell_type": "code",
   "execution_count": 9,
   "id": "1e979f79-ee24-4a8c-bf66-3d850bebc701",
   "metadata": {},
   "outputs": [],
   "source": [
    "df_combined = df_combined.rename(columns={'http.request.method': 'http1', 'http.referer': 'http2', 'http.request.version': 'http3', 'dns.qry.name.len': 'dns'})"
   ]
  },
  {
   "cell_type": "code",
   "execution_count": 10,
   "id": "4f3a29dd-0dfc-4fa1-8ac8-1034c3cd4bfa",
   "metadata": {},
   "outputs": [],
   "source": [
    "le_http1 = LabelEncoder()\n",
    "le_http2 = LabelEncoder()\n",
    "le_http3 = LabelEncoder()\n",
    "le_dns = LabelEncoder()"
   ]
  },
  {
   "cell_type": "code",
   "execution_count": 14,
   "id": "bc718f86-d781-4755-a585-187f96c24f6a",
   "metadata": {},
   "outputs": [],
   "source": [
    "df_combined['http1_encoded'] = le_http1.fit_transform(df_combined.http1)\n",
    "df_combined['http2_encoded'] = le_http2.fit_transform(df_combined.http2)\n",
    "df_combined['http3_encoded'] = le_http3.fit_transform(df_combined.http3)\n",
    "df_combined['dns_encoded'] = le_dns.fit_transform(df_combined.dns)\n"
   ]
  },
  {
   "cell_type": "code",
   "execution_count": 11,
   "id": "90b4a97f-f382-4c53-94ee-e2ff5757c25b",
   "metadata": {},
   "outputs": [],
   "source": [
    "http1_ = OneHotEncoder()\n",
    "http2_ = OneHotEncoder()\n",
    "http3_ = OneHotEncoder()\n",
    "dns_ = OneHotEncoder()"
   ]
  },
  {
   "cell_type": "code",
   "execution_count": 15,
   "id": "9c93a77f-dcb8-4d60-bc50-7488edb8add0",
   "metadata": {},
   "outputs": [],
   "source": [
    "X1 = http1_.fit_transform(df_combined.http1_encoded.values.reshape(-1,1)).toarray()\n",
    "X2 = http2_.fit_transform(df_combined.http2_encoded.values.reshape(-1,1)).toarray()\n",
    "X3 = http3_.fit_transform(df_combined.http3_encoded.values.reshape(-1,1)).toarray()\n",
    "X4 = dns_.fit_transform(df_combined.dns_encoded.values.reshape(-1,1)).toarray()"
   ]
  },
  {
   "cell_type": "code",
   "execution_count": 16,
   "id": "a0715b83-9ce0-4dfa-b01d-86d093b07a97",
   "metadata": {},
   "outputs": [],
   "source": [
    "dfOneHot = pd.DataFrame(X1, columns = [\"http1_\"+str(int(i)) for i in range(X1.shape[1])])\n",
    "df_combined = pd.concat([df_combined, dfOneHot], axis=1)\n",
    "dfOneHot = pd.DataFrame(X2, columns = [\"http2_\"+str(int(i)) for i in range(X2.shape[1])])\n",
    "df_combined = pd.concat([df_combined, dfOneHot], axis=1)\n",
    "dfOneHot = pd.DataFrame(X3, columns = [\"http3_\"+str(int(i)) for i in range(X3.shape[1])])\n",
    "df_combined = pd.concat([df_combined, dfOneHot], axis=1)\n",
    "dfOneHot = pd.DataFrame(X4, columns = [\"dns_\"+str(int(i)) for i in range(X4.shape[1])])"
   ]
  },
  {
   "cell_type": "code",
   "execution_count": 18,
   "id": "d563f24c-7f9e-4fc4-8200-940f06a8031a",
   "metadata": {},
   "outputs": [
    {
     "data": {
      "text/plain": [
       "Index(['frame.time', 'arp.dst.proto_ipv4', 'arp.opcode', 'arp.hw.size',\n",
       "       'arp.src.proto_ipv4', 'icmp.checksum', 'icmp.seq_le',\n",
       "       'icmp.transmit_timestamp', 'icmp.unused', 'http.file_data',\n",
       "       'http.content_length', 'http.request.uri.query',\n",
       "       'http.request.full_uri', 'http.response', 'http.tls_port', 'tcp.ack',\n",
       "       'tcp.ack_raw', 'tcp.checksum', 'tcp.connection.fin',\n",
       "       'tcp.connection.rst', 'tcp.connection.syn', 'tcp.connection.synack',\n",
       "       'tcp.dstport', 'tcp.flags', 'tcp.flags.ack', 'tcp.len', 'tcp.options',\n",
       "       'tcp.payload', 'tcp.seq', 'tcp.srcport', 'udp.port', 'udp.stream',\n",
       "       'udp.time_delta', 'dns.qry.name', 'dns.qry.qu', 'dns.qry.type',\n",
       "       'dns.retransmission', 'dns.retransmit_request',\n",
       "       'dns.retransmit_request_in', 'mbtcp.len', 'mbtcp.trans_id',\n",
       "       'mbtcp.unit_id', 'Attack_label', 'Attack_type', 'http1_encoded',\n",
       "       'http2_encoded', 'http3_encoded', 'dns_encoded', 'http1_0', 'http1_1',\n",
       "       'http1_2', 'http1_3', 'http2_0', 'http3_0', 'http3_1', 'http3_2'],\n",
       "      dtype='object')"
      ]
     },
     "execution_count": 18,
     "metadata": {},
     "output_type": "execute_result"
    }
   ],
   "source": [
    "df_combined.drop(columns=['http1','http2','http3', 'dns'], inplace = True )\n",
    "df_combined.columns"
   ]
  },
  {
   "cell_type": "code",
   "execution_count": 19,
   "id": "5597e79c-a8d2-4995-a0b1-8464a404a48a",
   "metadata": {},
   "outputs": [
    {
     "data": {
      "text/plain": [
       "frame.time                   0\n",
       "arp.dst.proto_ipv4           0\n",
       "arp.opcode                   0\n",
       "arp.hw.size                  0\n",
       "arp.src.proto_ipv4           0\n",
       "icmp.checksum                0\n",
       "icmp.seq_le                  0\n",
       "icmp.transmit_timestamp      0\n",
       "icmp.unused                  0\n",
       "http.file_data               0\n",
       "http.content_length          0\n",
       "http.request.uri.query       0\n",
       "http.request.full_uri        0\n",
       "http.response                0\n",
       "http.tls_port                0\n",
       "tcp.ack                      0\n",
       "tcp.ack_raw                  0\n",
       "tcp.checksum                 0\n",
       "tcp.connection.fin           0\n",
       "tcp.connection.rst           0\n",
       "tcp.connection.syn           0\n",
       "tcp.connection.synack        0\n",
       "tcp.dstport                  0\n",
       "tcp.flags                    0\n",
       "tcp.flags.ack                0\n",
       "tcp.len                      0\n",
       "tcp.options                  0\n",
       "tcp.payload                  0\n",
       "tcp.seq                      0\n",
       "tcp.srcport                  0\n",
       "udp.port                     0\n",
       "udp.stream                   0\n",
       "udp.time_delta               0\n",
       "dns.qry.name                 0\n",
       "dns.qry.qu                   0\n",
       "dns.qry.type                 0\n",
       "dns.retransmission           0\n",
       "dns.retransmit_request       0\n",
       "dns.retransmit_request_in    0\n",
       "mbtcp.len                    0\n",
       "mbtcp.trans_id               0\n",
       "mbtcp.unit_id                0\n",
       "Attack_label                 0\n",
       "Attack_type                  0\n",
       "http1_encoded                0\n",
       "http2_encoded                0\n",
       "http3_encoded                0\n",
       "dns_encoded                  0\n",
       "http1_0                      0\n",
       "http1_1                      0\n",
       "http1_2                      0\n",
       "http1_3                      0\n",
       "http2_0                      0\n",
       "http3_0                      0\n",
       "http3_1                      0\n",
       "http3_2                      0\n",
       "dtype: int64"
      ]
     },
     "execution_count": 19,
     "metadata": {},
     "output_type": "execute_result"
    }
   ],
   "source": [
    "df_combined.isnull().sum()"
   ]
  },
  {
   "cell_type": "code",
   "execution_count": 20,
   "id": "17590e6d-88e9-45c9-95af-d14f39328068",
   "metadata": {},
   "outputs": [
    {
     "data": {
      "text/plain": [
       "0"
      ]
     },
     "execution_count": 20,
     "metadata": {},
     "output_type": "execute_result"
    }
   ],
   "source": [
    "df_combined.duplicated().sum()"
   ]
  },
  {
   "cell_type": "code",
   "execution_count": 21,
   "id": "69fe0eb7-526a-4604-8601-84e4293a83b0",
   "metadata": {},
   "outputs": [
    {
     "name": "stdout",
     "output_type": "stream",
     "text": [
      "Groups of identical columns: [['icmp.checksum', 'icmp.seq_le', 'icmp.transmit_timestamp', 'icmp.unused', 'http.request.uri.query', 'http.tls_port', 'tcp.connection.rst', 'dns.qry.qu', 'mbtcp.len', 'mbtcp.trans_id', 'mbtcp.unit_id', 'http2_encoded'], ['Attack_label', 'http2_0'], ['http1_0', 'http3_0'], ['http1_1', 'http3_1']]\n"
     ]
    }
   ],
   "source": [
    "# Function to create a hash for each column\n",
    "def hash_column(series):\n",
    "    return md5(pd.util.hash_pandas_object(series, index=False).values).hexdigest()\n",
    "\n",
    "# Function to find columns with identical hashes\n",
    "def find_identical_columns_by_hash(df):\n",
    "    hash_dict = {}\n",
    "    for col in df_combined.columns:\n",
    "        col_hash = hash_column(df_combined[col])\n",
    "        if col_hash in hash_dict:\n",
    "            hash_dict[col_hash].append(col)\n",
    "        else:\n",
    "            hash_dict[col_hash] = [col]\n",
    "\n",
    "    return [cols for cols in hash_dict.values() if len(cols) > 1]\n",
    "\n",
    "# Applying the function to the DataFrame\n",
    "identical_column_groups = find_identical_columns_by_hash(df_combined)\n",
    "print(\"Groups of identical columns:\", identical_column_groups)"
   ]
  },
  {
   "cell_type": "code",
   "execution_count": 23,
   "id": "3d1104e0-065b-4e81-9525-433cbb61d4a5",
   "metadata": {},
   "outputs": [
    {
     "data": {
      "text/plain": [
       "(15000, 54)"
      ]
     },
     "execution_count": 23,
     "metadata": {},
     "output_type": "execute_result"
    }
   ],
   "source": [
    "# Groups of identical columns\n",
    "identical_column_groups = [\n",
    "    ['icmp.unused', 'http.tls_port', 'dns.qry.type'],\n",
    "    # ['mqtt.conflag.cleansess', 'mqtt2_2'], \n",
    "    # ['mqtt.proto_len', 'mqtt.ver'], \n",
    "    # ['mqtt1_1', 'mqtt2_1', 'mqtt3_1']\n",
    "]\n",
    "\n",
    "# Iterate through the list of groups and drop all but the first column\n",
    "for group in identical_column_groups:\n",
    "    # Keep the first column of the group and drop the rest\n",
    "    columns_to_drop = group[1:]  # all columns except the first one\n",
    "    df_combined = df_combined.drop(columns_to_drop, axis=1)\n",
    "df_combined.shape"
   ]
  },
  {
   "cell_type": "code",
   "execution_count": 26,
   "id": "f3ddfd9d-e7d7-482b-a33a-de80bb014c97",
   "metadata": {},
   "outputs": [
    {
     "name": "stdout",
     "output_type": "stream",
     "text": [
      "Attack_type\n",
      "DDoS_TCP         5000\n",
      "DDoS_HTTP        5000\n",
      "SQL_injection    5000\n",
      "Name: count, dtype: int64\n"
     ]
    }
   ],
   "source": [
    "print(df_combined['Attack_type'].value_counts())"
   ]
  },
  {
   "cell_type": "code",
   "execution_count": 27,
   "id": "70a01077-e8bd-4fdf-b25a-e6a5dd3a1751",
   "metadata": {},
   "outputs": [
    {
     "data": {
      "text/html": [
       "<div>\n",
       "<style scoped>\n",
       "    .dataframe tbody tr th:only-of-type {\n",
       "        vertical-align: middle;\n",
       "    }\n",
       "\n",
       "    .dataframe tbody tr th {\n",
       "        vertical-align: top;\n",
       "    }\n",
       "\n",
       "    .dataframe thead th {\n",
       "        text-align: right;\n",
       "    }\n",
       "</style>\n",
       "<table border=\"1\" class=\"dataframe\">\n",
       "  <thead>\n",
       "    <tr style=\"text-align: right;\">\n",
       "      <th></th>\n",
       "      <th>frame.time</th>\n",
       "      <th>arp.dst.proto_ipv4</th>\n",
       "      <th>arp.src.proto_ipv4</th>\n",
       "      <th>http.file_data</th>\n",
       "      <th>http.request.full_uri</th>\n",
       "      <th>tcp.checksum</th>\n",
       "      <th>tcp.flags</th>\n",
       "      <th>tcp.flags.ack</th>\n",
       "      <th>tcp.options</th>\n",
       "      <th>tcp.payload</th>\n",
       "      <th>udp.port</th>\n",
       "      <th>dns.qry.name</th>\n",
       "      <th>Attack_type</th>\n",
       "    </tr>\n",
       "  </thead>\n",
       "  <tbody>\n",
       "    <tr>\n",
       "      <th>count</th>\n",
       "      <td>15000</td>\n",
       "      <td>15000</td>\n",
       "      <td>15000</td>\n",
       "      <td>15000</td>\n",
       "      <td>15000</td>\n",
       "      <td>15000</td>\n",
       "      <td>15000</td>\n",
       "      <td>15000</td>\n",
       "      <td>15000</td>\n",
       "      <td>15000</td>\n",
       "      <td>15000</td>\n",
       "      <td>15000</td>\n",
       "      <td>15000</td>\n",
       "    </tr>\n",
       "    <tr>\n",
       "      <th>unique</th>\n",
       "      <td>14865</td>\n",
       "      <td>5</td>\n",
       "      <td>5</td>\n",
       "      <td>5</td>\n",
       "      <td>4</td>\n",
       "      <td>7440</td>\n",
       "      <td>13</td>\n",
       "      <td>4</td>\n",
       "      <td>4452</td>\n",
       "      <td>830</td>\n",
       "      <td>8</td>\n",
       "      <td>5</td>\n",
       "      <td>3</td>\n",
       "    </tr>\n",
       "    <tr>\n",
       "      <th>top</th>\n",
       "      <td>Mar 17, 2025 19:42:33.325565000 CDT</td>\n",
       "      <td>0</td>\n",
       "      <td>0</td>\n",
       "      <td>0</td>\n",
       "      <td>0</td>\n",
       "      <td>0x8383</td>\n",
       "      <td>2.0</td>\n",
       "      <td>1</td>\n",
       "      <td>0</td>\n",
       "      <td>0</td>\n",
       "      <td>0</td>\n",
       "      <td>0</td>\n",
       "      <td>DDoS_TCP</td>\n",
       "    </tr>\n",
       "    <tr>\n",
       "      <th>freq</th>\n",
       "      <td>3</td>\n",
       "      <td>9992</td>\n",
       "      <td>9992</td>\n",
       "      <td>8927</td>\n",
       "      <td>8406</td>\n",
       "      <td>2829</td>\n",
       "      <td>5268</td>\n",
       "      <td>9023</td>\n",
       "      <td>5165</td>\n",
       "      <td>12067</td>\n",
       "      <td>9855</td>\n",
       "      <td>9948</td>\n",
       "      <td>5000</td>\n",
       "    </tr>\n",
       "  </tbody>\n",
       "</table>\n",
       "</div>"
      ],
      "text/plain": [
       "                                 frame.time arp.dst.proto_ipv4  \\\n",
       "count                                 15000              15000   \n",
       "unique                                14865                  5   \n",
       "top     Mar 17, 2025 19:42:33.325565000 CDT                  0   \n",
       "freq                                      3               9992   \n",
       "\n",
       "       arp.src.proto_ipv4 http.file_data http.request.full_uri tcp.checksum  \\\n",
       "count               15000          15000                 15000        15000   \n",
       "unique                  5              5                     4         7440   \n",
       "top                     0              0                     0       0x8383   \n",
       "freq                 9992           8927                  8406         2829   \n",
       "\n",
       "       tcp.flags tcp.flags.ack tcp.options tcp.payload udp.port dns.qry.name  \\\n",
       "count      15000         15000       15000       15000    15000        15000   \n",
       "unique        13             4        4452         830        8            5   \n",
       "top          2.0             1           0           0        0            0   \n",
       "freq        5268          9023        5165       12067     9855         9948   \n",
       "\n",
       "       Attack_type  \n",
       "count        15000  \n",
       "unique           3  \n",
       "top       DDoS_TCP  \n",
       "freq          5000  "
      ]
     },
     "execution_count": 27,
     "metadata": {},
     "output_type": "execute_result"
    }
   ],
   "source": [
    "df_cat = df_combined.select_dtypes(exclude=[np.number])\n",
    "df_cat.describe(include='all')"
   ]
  },
  {
   "cell_type": "code",
   "execution_count": 29,
   "id": "ad2cdd51-9176-4822-b97b-fce045711aa9",
   "metadata": {},
   "outputs": [],
   "source": [
    "drop_columns = [\"frame.time\",\"arp.dst.proto_ipv4\", \"arp.src.proto_ipv4\",\n",
    "                \"http.file_data\", \n",
    "                \"http.request.full_uri\", \"tcp.options\", \"tcp.payload\",\n",
    "                \"tcp.srcport\"]\n",
    "df_combined.drop(drop_columns, axis = 1, inplace = True)\n",
    "df_combined.dropna(axis = 0, how = 'any', inplace = True)\n",
    "# df.drop_duplicates(subset = None, keep = \"first\", inplace = True)\n",
    "df_combined = shuffle(df_combined)"
   ]
  },
  {
   "cell_type": "code",
   "execution_count": 30,
   "id": "bcf85ad8-5a0a-4917-96db-8cde7b63ed68",
   "metadata": {},
   "outputs": [
    {
     "data": {
      "text/plain": [
       "(15000, 46)"
      ]
     },
     "execution_count": 30,
     "metadata": {},
     "output_type": "execute_result"
    }
   ],
   "source": [
    "df_combined.shape"
   ]
  },
  {
   "cell_type": "code",
   "execution_count": 31,
   "id": "18d70c91-00a6-4509-8a3c-018cb8a72597",
   "metadata": {},
   "outputs": [],
   "source": [
    "df_combined.to_csv('../attacks/Preprocessed_combined_data.csv', index=False)"
   ]
  },
  {
   "cell_type": "code",
   "execution_count": 32,
   "id": "ee6e6f8a-a4cc-4f9e-815c-17d7a595c700",
   "metadata": {},
   "outputs": [],
   "source": [
    "df_combined['tcp.checksum'] = df_combined['tcp.checksum'].apply(lambda x: int(x, 16) if isinstance(x, str) and x.startswith('0x') else x)\n",
    "df_combined['tcp.flags'] = df_combined['tcp.flags'].apply(lambda x: int(x, 16) if isinstance(x, str) and x.startswith('0x') else x)\n",
    "df_combined['tcp.checksum'] = df_combined['tcp.checksum'].astype(float)\n",
    "df_combined['tcp.flags'] = df_combined['tcp.flags'].astype(float)\n",
    "df_combined.to_csv('../attacks/Preprocessed_combined_data.csv', index=False)"
   ]
  },
  {
   "cell_type": "code",
   "execution_count": 55,
   "id": "099c3f2a-b95d-47e8-b623-0f6929cefc7e",
   "metadata": {},
   "outputs": [
    {
     "name": "stdout",
     "output_type": "stream",
     "text": [
      "<class 'pandas.core.frame.DataFrame'>\n",
      "RangeIndex: 15000 entries, 0 to 14999\n",
      "Data columns (total 45 columns):\n",
      " #   Column                     Non-Null Count  Dtype  \n",
      "---  ------                     --------------  -----  \n",
      " 0   arp.opcode                 15000 non-null  float64\n",
      " 1   arp.hw.size                15000 non-null  float64\n",
      " 2   icmp.checksum              15000 non-null  float64\n",
      " 3   icmp.seq_le                15000 non-null  float64\n",
      " 4   icmp.transmit_timestamp    15000 non-null  float64\n",
      " 5   icmp.unused                15000 non-null  float64\n",
      " 6   http.content_length        15000 non-null  float64\n",
      " 7   http.response              15000 non-null  float64\n",
      " 8   tcp.ack                    15000 non-null  float64\n",
      " 9   tcp.ack_raw                15000 non-null  float64\n",
      " 10  tcp.checksum               15000 non-null  float64\n",
      " 11  tcp.connection.fin         15000 non-null  float64\n",
      " 12  tcp.connection.rst         15000 non-null  float64\n",
      " 13  tcp.connection.syn         15000 non-null  float64\n",
      " 14  tcp.connection.synack      15000 non-null  float64\n",
      " 15  tcp.dstport                15000 non-null  float64\n",
      " 16  tcp.flags                  15000 non-null  float64\n",
      " 17  tcp.flags.ack              15000 non-null  int64  \n",
      " 18  tcp.len                    15000 non-null  float64\n",
      " 19  tcp.seq                    15000 non-null  float64\n",
      " 20  udp.port                   15000 non-null  float64\n",
      " 21  udp.stream                 15000 non-null  float64\n",
      " 22  udp.time_delta             15000 non-null  float64\n",
      " 23  dns.qry.name               15000 non-null  float64\n",
      " 24  dns.qry.qu                 15000 non-null  float64\n",
      " 25  dns.retransmission         15000 non-null  float64\n",
      " 26  dns.retransmit_request     15000 non-null  float64\n",
      " 27  dns.retransmit_request_in  15000 non-null  float64\n",
      " 28  mbtcp.len                  15000 non-null  float64\n",
      " 29  mbtcp.trans_id             15000 non-null  float64\n",
      " 30  mbtcp.unit_id              15000 non-null  float64\n",
      " 31  Attack_label               15000 non-null  float64\n",
      " 32  Attack_type                15000 non-null  object \n",
      " 33  http1_encoded              15000 non-null  int64  \n",
      " 34  http2_encoded              15000 non-null  int64  \n",
      " 35  http3_encoded              15000 non-null  int64  \n",
      " 36  dns_encoded                15000 non-null  int64  \n",
      " 37  http1_0                    15000 non-null  float64\n",
      " 38  http1_1                    15000 non-null  float64\n",
      " 39  http1_2                    15000 non-null  float64\n",
      " 40  http1_3                    15000 non-null  float64\n",
      " 41  http2_0                    15000 non-null  float64\n",
      " 42  http3_0                    15000 non-null  float64\n",
      " 43  http3_1                    15000 non-null  float64\n",
      " 44  http3_2                    15000 non-null  float64\n",
      "dtypes: float64(39), int64(5), object(1)\n",
      "memory usage: 5.1+ MB\n"
     ]
    }
   ],
   "source": [
    "df_combined = pd.read_csv('../attacks/Preprocessed_combined_data.csv', low_memory=False)\n",
    "df_combined.drop(columns=['http.request.uri.query'], inplace=True)\n",
    "df_combined.info()\n",
    "df_combined.to_csv('../attacks/Preprocessed_combined_data.csv', index=False)"
   ]
  },
  {
   "cell_type": "code",
   "execution_count": 47,
   "id": "88cb0231-24ec-4ee4-b97d-91e9c594db50",
   "metadata": {},
   "outputs": [
    {
     "data": {
      "text/plain": [
       "(50000, 64)"
      ]
     },
     "execution_count": 47,
     "metadata": {},
     "output_type": "execute_result"
    }
   ],
   "source": [
    "# Load the datasets\n",
    "df1 = pd.read_csv('../attacks/Preprocessed_edgeIIot_50k.csv')\n",
    "df2 = pd.read_csv('../attacks/Preprocessed_combined_data.csv')\n",
    "\n",
    "# Ensure that both datasets have the same columns. \n",
    "# Add missing columns in df2 and set their default values to 0.0.\n",
    "for col in df1.columns:\n",
    "    if col not in df2.columns:\n",
    "        df2[col] = 0.0  # Add the missing column and set all values to 0.0\n",
    "df1.shape\n",
    "df2.to_pdf('../attacks/Preprocessed_combined_data.csv')\n"
   ]
  },
  {
   "cell_type": "code",
   "execution_count": 48,
   "id": "66d35df3-3fbe-4645-a079-7093be46645f",
   "metadata": {},
   "outputs": [
    {
     "data": {
      "text/plain": [
       "Index(['arp.opcode', 'arp.hw.size', 'icmp.checksum', 'icmp.seq_le',\n",
       "       'icmp.transmit_timestamp', 'icmp.unused', 'http.content_length',\n",
       "       'http.response', 'tcp.ack', 'tcp.ack_raw', 'tcp.checksum',\n",
       "       'tcp.connection.fin', 'tcp.connection.rst', 'tcp.connection.syn',\n",
       "       'tcp.connection.synack', 'tcp.dstport', 'tcp.flags', 'tcp.flags.ack',\n",
       "       'tcp.len', 'tcp.seq', 'udp.port', 'udp.stream', 'udp.time_delta',\n",
       "       'dns.qry.name', 'dns.qry.qu', 'dns.retransmission',\n",
       "       'dns.retransmit_request', 'dns.retransmit_request_in', 'mbtcp.len',\n",
       "       'mbtcp.trans_id', 'mbtcp.unit_id', 'Attack_label', 'Attack_type',\n",
       "       'http1_encoded', 'http2_encoded', 'http3_encoded', 'dns_encoded',\n",
       "       'http1_0', 'http1_1', 'http1_2', 'http1_3', 'http1_4', 'http1_5',\n",
       "       'http1_6', 'http1_7', 'http1_8', 'http2_0', 'http2_1', 'http2_2',\n",
       "       'http2_3', 'http2_4', 'http3_0', 'http3_1', 'http3_2', 'http3_3',\n",
       "       'http3_4', 'http3_5', 'http3_6', 'http3_7', 'http3_8', 'http3_9',\n",
       "       'http3_10', 'http3_11', 'http3_12'],\n",
       "      dtype='object')"
      ]
     },
     "execution_count": 48,
     "metadata": {},
     "output_type": "execute_result"
    }
   ],
   "source": [
    "df1.columns"
   ]
  },
  {
   "cell_type": "code",
   "execution_count": 49,
   "id": "619e33dc-f6a3-44c7-8ea0-a6673da72f43",
   "metadata": {},
   "outputs": [
    {
     "data": {
      "text/plain": [
       "Index(['arp.opcode', 'arp.hw.size', 'icmp.checksum', 'icmp.seq_le',\n",
       "       'icmp.transmit_timestamp', 'icmp.unused', 'http.content_length',\n",
       "       'http.request.uri.query', 'http.response', 'tcp.ack', 'tcp.ack_raw',\n",
       "       'tcp.checksum', 'tcp.connection.fin', 'tcp.connection.rst',\n",
       "       'tcp.connection.syn', 'tcp.connection.synack', 'tcp.dstport',\n",
       "       'tcp.flags', 'tcp.flags.ack', 'tcp.len', 'tcp.seq', 'udp.port',\n",
       "       'udp.stream', 'udp.time_delta', 'dns.qry.name', 'dns.qry.qu',\n",
       "       'dns.retransmission', 'dns.retransmit_request',\n",
       "       'dns.retransmit_request_in', 'mbtcp.len', 'mbtcp.trans_id',\n",
       "       'mbtcp.unit_id', 'Attack_label', 'Attack_type', 'http1_encoded',\n",
       "       'http2_encoded', 'http3_encoded', 'dns_encoded', 'http1_0', 'http1_1',\n",
       "       'http1_2', 'http1_3', 'http2_0', 'http3_0', 'http3_1', 'http3_2',\n",
       "       'http1_4', 'http1_5', 'http1_6', 'http1_7', 'http1_8', 'http2_1',\n",
       "       'http2_2', 'http2_3', 'http2_4', 'http3_3', 'http3_4', 'http3_5',\n",
       "       'http3_6', 'http3_7', 'http3_8', 'http3_9', 'http3_10', 'http3_11',\n",
       "       'http3_12'],\n",
       "      dtype='object')"
      ]
     },
     "execution_count": 49,
     "metadata": {},
     "output_type": "execute_result"
    }
   ],
   "source": [
    "df2.columns"
   ]
  },
  {
   "cell_type": "code",
   "execution_count": 50,
   "id": "965e9beb-88ff-4914-9502-def3ad54788a",
   "metadata": {},
   "outputs": [],
   "source": [
    "df2.drop(columns=['http.request.uri.query'], inplace=True)"
   ]
  },
  {
   "cell_type": "code",
   "execution_count": 51,
   "id": "f4efcc15-35d8-4cf8-a6e4-8272d81b7cb9",
   "metadata": {},
   "outputs": [
    {
     "data": {
      "text/plain": [
       "Index(['arp.opcode', 'arp.hw.size', 'icmp.checksum', 'icmp.seq_le',\n",
       "       'icmp.transmit_timestamp', 'icmp.unused', 'http.content_length',\n",
       "       'http.response', 'tcp.ack', 'tcp.ack_raw', 'tcp.checksum',\n",
       "       'tcp.connection.fin', 'tcp.connection.rst', 'tcp.connection.syn',\n",
       "       'tcp.connection.synack', 'tcp.dstport', 'tcp.flags', 'tcp.flags.ack',\n",
       "       'tcp.len', 'tcp.seq', 'udp.port', 'udp.stream', 'udp.time_delta',\n",
       "       'dns.qry.name', 'dns.qry.qu', 'dns.retransmission',\n",
       "       'dns.retransmit_request', 'dns.retransmit_request_in', 'mbtcp.len',\n",
       "       'mbtcp.trans_id', 'mbtcp.unit_id', 'Attack_label', 'Attack_type',\n",
       "       'http1_encoded', 'http2_encoded', 'http3_encoded', 'dns_encoded',\n",
       "       'http1_0', 'http1_1', 'http1_2', 'http1_3', 'http2_0', 'http3_0',\n",
       "       'http3_1', 'http3_2', 'http1_4', 'http1_5', 'http1_6', 'http1_7',\n",
       "       'http1_8', 'http2_1', 'http2_2', 'http2_3', 'http2_4', 'http3_3',\n",
       "       'http3_4', 'http3_5', 'http3_6', 'http3_7', 'http3_8', 'http3_9',\n",
       "       'http3_10', 'http3_11', 'http3_12'],\n",
       "      dtype='object')"
      ]
     },
     "execution_count": 51,
     "metadata": {},
     "output_type": "execute_result"
    }
   ],
   "source": [
    "df2.columns"
   ]
  },
  {
   "cell_type": "code",
   "execution_count": 52,
   "id": "8acac317-153d-4117-8b67-190e346c20c5",
   "metadata": {},
   "outputs": [
    {
     "data": {
      "text/plain": [
       "(50000, 64)"
      ]
     },
     "execution_count": 52,
     "metadata": {},
     "output_type": "execute_result"
    }
   ],
   "source": [
    "df1.shape"
   ]
  },
  {
   "cell_type": "code",
   "execution_count": 57,
   "id": "a01a4377-0ffc-48eb-935b-cfa52b00db85",
   "metadata": {},
   "outputs": [],
   "source": [
    "df2.shape\n",
    "df2.to_csv('../attacks/final_combined_attack_data.csv')"
   ]
  },
  {
   "cell_type": "code",
   "execution_count": 54,
   "id": "d0403171-6a33-4c03-ba50-991ff651c2a0",
   "metadata": {},
   "outputs": [],
   "source": [
    "df_combined = pd.concat([df1, df2], ignore_index=True)\n",
    "\n",
    "# Save the combined DataFrame to a new CSV\n",
    "df_combined.to_csv('../attacks/final_combined_50k_dataset.csv', index=False)"
   ]
  },
  {
   "cell_type": "code",
   "execution_count": 59,
   "id": "ffffe54d-3477-45b3-a6aa-d816fea433ab",
   "metadata": {},
   "outputs": [],
   "source": [
    "import pandas as pd\n",
    "\n",
    "# Example: Load your dataset\n",
    "df = pd.read_csv('../attacks/final_combined_attack_data.csv')\n",
    "\n",
    "# Create three separate DataFrames for each attack type\n",
    "df_attack1 = df[df['Attack_type'] == 'DDoS_TCP']\n",
    "df_attack2 = df[df['Attack_type'] == 'DDoS_HTTP']\n",
    "df_attack3 = df[df['Attack_type'] == 'SQL_injection']\n",
    "\n",
    "# Now you have three DataFrames:\n",
    "# - df_attack1 for Attack1\n",
    "# - df_attack2 for Attack2\n",
    "# - df_attack3 for Attack3\n",
    "\n",
    "# Optionally, you can save them as separate CSV files if needed\n",
    "df_attack1.to_csv('../attacks/final_ddos_tcp_attack.csv', index=False)\n",
    "df_attack2.to_csv('../attacks/final_ddos_http_attack.csv', index=False)\n",
    "df_attack3.to_csv('../attacks/final_sql_injection_attack.csv', index=False)"
   ]
  },
  {
   "cell_type": "code",
   "execution_count": null,
   "id": "7048f046-1b9b-44f9-8dea-8274c3ed44fa",
   "metadata": {},
   "outputs": [],
   "source": []
  }
 ],
 "metadata": {
  "kernelspec": {
   "display_name": "lstmvenv",
   "language": "python",
   "name": "venv"
  },
  "language_info": {
   "codemirror_mode": {
    "name": "ipython",
    "version": 3
   },
   "file_extension": ".py",
   "mimetype": "text/x-python",
   "name": "python",
   "nbconvert_exporter": "python",
   "pygments_lexer": "ipython3",
   "version": "3.10.16"
  }
 },
 "nbformat": 4,
 "nbformat_minor": 5
}
